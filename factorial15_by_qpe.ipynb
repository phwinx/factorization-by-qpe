{
 "cells": [
  {
   "cell_type": "code",
   "execution_count": 1,
   "id": "6b57a8fe",
   "metadata": {},
   "outputs": [],
   "source": [
    "import numpy as np\n",
    "import math\n",
    "import matplotlib.pyplot as plt\n",
    "import random\n",
    "\n",
    "from braket.circuits import Circuit, circuit\n",
    "from braket.devices import LocalSimulator\n",
    "from braket.aws import AwsDevice\n",
    "from fractions import Fraction\n",
    "from math import gcd\n",
    "\n",
    "import utils_qft\n",
    "from utils_qpe import qpe, run_qpe\n",
    "\n",
    "%load_ext autoreload\n",
    "%autoreload 2\n",
    "%matplotlib inline\n",
    "%config IPCompleter.greedy=True"
   ]
  },
  {
   "cell_type": "code",
   "execution_count": 2,
   "id": "462cb179",
   "metadata": {},
   "outputs": [],
   "source": [
    "# 15に対するユニタリ作用素を作る。\n",
    "# この作用素の位数 r を QPEで推定し、Shorのアルゴリズムで素因数を特定する。\n",
    "\n",
    "def c_amod15(a):\n",
    "    if a not in [2,7,8,11,13]:\n",
    "        return None\n",
    "    U = Circuit()        \n",
    "    if a in [2,13]:\n",
    "        U.swap(0,1)\n",
    "        U.swap(1,2)\n",
    "        U.swap(2,3)\n",
    "    if a in [7,8]:\n",
    "        U.swap(2,3)\n",
    "        U.swap(1,2)\n",
    "        U.swap(0,1)\n",
    "    if a == 11:\n",
    "        U.swap(1,3)\n",
    "        U.swap(0,2)\n",
    "    if a in [7,11,13]:\n",
    "        for q in range(4):\n",
    "            U.x(q)\n",
    "    return U"
   ]
  },
  {
   "cell_type": "code",
   "execution_count": 3,
   "id": "de2d487a",
   "metadata": {
    "scrolled": true
   },
   "outputs": [],
   "source": [
    "# 基底 a とユニタリ作用素 unitary でのQPE\n",
    "\n",
    "def qpe_amod(device, a, unitary, number_precision_qubits = 4, dim = 4):\n",
    "    precision_qubits = range(number_precision_qubits)\n",
    "    query_qubits = [i for i in range(number_precision_qubits, number_precision_qubits+dim)]\n",
    "    query = Circuit().x(query_qubits[dim-1])\n",
    "\n",
    "    # run qpe\n",
    "    out = run_qpe(unitary, precision_qubits, query_qubits, query, device)\n",
    "\n",
    "    # Get estimates phase.\n",
    "    return out['phases_decimal']\n",
    "\n"
   ]
  },
  {
   "cell_type": "code",
   "execution_count": 4,
   "id": "43e94f89",
   "metadata": {},
   "outputs": [],
   "source": [
    "# 推定した位相から位数を推定する\n",
    "\n",
    "def phase2order(phase):\n",
    "    frac = Fraction(phase[0]).limit_denominator(15)\n",
    "    return frac.denominator"
   ]
  },
  {
   "cell_type": "code",
   "execution_count": 5,
   "id": "aa35944e",
   "metadata": {},
   "outputs": [],
   "source": [
    "def shor(n, r):\n",
    "    if r % 2 == 1:\n",
    "        return None\n",
    "    guesses = [gcd(a**(r//2)-1, 15), gcd(a**(r//2)+1, 15)]\n",
    "    for guess in guesses:\n",
    "        if guess != 1 and guess != 15 and (15 % guess) == 0:\n",
    "            return guess\n",
    "    return None\n"
   ]
  },
  {
   "cell_type": "code",
   "execution_count": 6,
   "id": "90263743",
   "metadata": {},
   "outputs": [
    {
     "name": "stdout",
     "output_type": "stream",
     "text": [
      "\n",
      "Attempt 1: a=14\n",
      "Failed. (illegal unitary operator)\n",
      "\n",
      "Attempt 2: a=11\n",
      "Result: r = 2\n",
      "*** Non-trivial factor found: 5 ***\n"
     ]
    }
   ],
   "source": [
    "N = 15\n",
    "unitary_generator = c_amod15\n",
    "device = LocalSimulator()\n",
    "\n",
    "attempt = 0\n",
    "found = False\n",
    "while not found:\n",
    "    attempt += 1\n",
    "    a = random.randint(2, N)\n",
    "    print(\"\\nAttempt %i: a=%i\" % (attempt, a))\n",
    "\n",
    "    unitary = unitary_generator(a)\n",
    "    if (unitary == None):\n",
    "        print(\"Failed. (illegal unitary operator)\")\n",
    "        continue\n",
    "\n",
    "    phase = qpe_amod(device, a, unitary.as_unitary())\n",
    "    if (phase == 0):\n",
    "        print(\"Failed. (phase == 0)\")\n",
    "        continue\n",
    "    r = phase2order(phase)\n",
    "    print(\"Result: r = %i\" % r)\n",
    "    \n",
    "    ret = shor(N, r)\n",
    "    if (ret != None):\n",
    "        print(\"*** Non-trivial factor found: %i ***\" % ret)\n",
    "        found = True\n",
    "    else:\n",
    "        print(\"Failed. (shor)\")\n"
   ]
  }
 ],
 "metadata": {
  "kernelspec": {
   "display_name": "Python 3 (ipykernel)",
   "language": "python",
   "name": "python3"
  },
  "language_info": {
   "codemirror_mode": {
    "name": "ipython",
    "version": 3
   },
   "file_extension": ".py",
   "mimetype": "text/x-python",
   "name": "python",
   "nbconvert_exporter": "python",
   "pygments_lexer": "ipython3",
   "version": "3.9.10"
  }
 },
 "nbformat": 4,
 "nbformat_minor": 5
}
